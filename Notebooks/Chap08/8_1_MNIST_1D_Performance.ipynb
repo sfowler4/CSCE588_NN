{
  "cells": [
    {
      "cell_type": "markdown",
      "metadata": {
        "id": "view-in-github",
        "colab_type": "text"
      },
      "source": [
        "<a href=\"https://colab.research.google.com/github/sfowler4/CSCE588_NN/blob/main/Notebooks/Chap08/8_1_MNIST_1D_Performance.ipynb\" target=\"_parent\"><img src=\"https://colab.research.google.com/assets/colab-badge.svg\" alt=\"Open In Colab\"/></a>"
      ]
    },
    {
      "cell_type": "markdown",
      "metadata": {
        "id": "L6chybAVFJW2"
      },
      "source": [
        "# **Notebook 8.1: MNIST_1D_Performance**\n",
        "\n",
        "This notebook runs a simple neural network on the MNIST1D dataset as in figure 8.2a. It uses code from https://github.com/greydanus/mnist1d to generate the data.\n",
        "\n",
        "Work through the cells below, running each cell in turn. In various places you will see the words \"TODO\". Follow the instructions at these places and make predictions about what is going to happen or write code to complete the functions.\n",
        "\n",
        "Contact me at udlbookmail@gmail.com if you find any mistakes or have any suggestions."
      ]
    },
    {
      "cell_type": "code",
      "execution_count": 1,
      "metadata": {
        "id": "ifVjS4cTOqKz",
        "outputId": "a1058c45-658d-45aa-df23-c380a15e75e7",
        "colab": {
          "base_uri": "https://localhost:8080/"
        }
      },
      "outputs": [
        {
          "output_type": "stream",
          "name": "stdout",
          "text": [
            "Collecting git+https://github.com/greydanus/mnist1d\n",
            "  Cloning https://github.com/greydanus/mnist1d to /tmp/pip-req-build-r9bwsbo9\n",
            "  Running command git clone --filter=blob:none --quiet https://github.com/greydanus/mnist1d /tmp/pip-req-build-r9bwsbo9\n",
            "  Resolved https://github.com/greydanus/mnist1d to commit 7878d96082abd200c546a07a4101fa90b30fdf7e\n",
            "  Installing build dependencies ... \u001b[?25l\u001b[?25hdone\n",
            "  Getting requirements to build wheel ... \u001b[?25l\u001b[?25hdone\n",
            "  Preparing metadata (pyproject.toml) ... \u001b[?25l\u001b[?25hdone\n",
            "Requirement already satisfied: requests in /usr/local/lib/python3.11/dist-packages (from mnist1d==0.0.2.post16) (2.32.3)\n",
            "Requirement already satisfied: numpy in /usr/local/lib/python3.11/dist-packages (from mnist1d==0.0.2.post16) (1.26.4)\n",
            "Requirement already satisfied: matplotlib in /usr/local/lib/python3.11/dist-packages (from mnist1d==0.0.2.post16) (3.10.0)\n",
            "Requirement already satisfied: scipy in /usr/local/lib/python3.11/dist-packages (from mnist1d==0.0.2.post16) (1.13.1)\n",
            "Requirement already satisfied: contourpy>=1.0.1 in /usr/local/lib/python3.11/dist-packages (from matplotlib->mnist1d==0.0.2.post16) (1.3.1)\n",
            "Requirement already satisfied: cycler>=0.10 in /usr/local/lib/python3.11/dist-packages (from matplotlib->mnist1d==0.0.2.post16) (0.12.1)\n",
            "Requirement already satisfied: fonttools>=4.22.0 in /usr/local/lib/python3.11/dist-packages (from matplotlib->mnist1d==0.0.2.post16) (4.56.0)\n",
            "Requirement already satisfied: kiwisolver>=1.3.1 in /usr/local/lib/python3.11/dist-packages (from matplotlib->mnist1d==0.0.2.post16) (1.4.8)\n",
            "Requirement already satisfied: packaging>=20.0 in /usr/local/lib/python3.11/dist-packages (from matplotlib->mnist1d==0.0.2.post16) (24.2)\n",
            "Requirement already satisfied: pillow>=8 in /usr/local/lib/python3.11/dist-packages (from matplotlib->mnist1d==0.0.2.post16) (11.1.0)\n",
            "Requirement already satisfied: pyparsing>=2.3.1 in /usr/local/lib/python3.11/dist-packages (from matplotlib->mnist1d==0.0.2.post16) (3.2.1)\n",
            "Requirement already satisfied: python-dateutil>=2.7 in /usr/local/lib/python3.11/dist-packages (from matplotlib->mnist1d==0.0.2.post16) (2.8.2)\n",
            "Requirement already satisfied: charset-normalizer<4,>=2 in /usr/local/lib/python3.11/dist-packages (from requests->mnist1d==0.0.2.post16) (3.4.1)\n",
            "Requirement already satisfied: idna<4,>=2.5 in /usr/local/lib/python3.11/dist-packages (from requests->mnist1d==0.0.2.post16) (3.10)\n",
            "Requirement already satisfied: urllib3<3,>=1.21.1 in /usr/local/lib/python3.11/dist-packages (from requests->mnist1d==0.0.2.post16) (2.3.0)\n",
            "Requirement already satisfied: certifi>=2017.4.17 in /usr/local/lib/python3.11/dist-packages (from requests->mnist1d==0.0.2.post16) (2025.1.31)\n",
            "Requirement already satisfied: six>=1.5 in /usr/local/lib/python3.11/dist-packages (from python-dateutil>=2.7->matplotlib->mnist1d==0.0.2.post16) (1.17.0)\n",
            "Building wheels for collected packages: mnist1d\n",
            "  Building wheel for mnist1d (pyproject.toml) ... \u001b[?25l\u001b[?25hdone\n",
            "  Created wheel for mnist1d: filename=mnist1d-0.0.2.post16-py3-none-any.whl size=14626 sha256=ac96bffc592facd92eab8c4a268927f24c9bf6dc75888cc13b9c8b87660a736c\n",
            "  Stored in directory: /tmp/pip-ephem-wheel-cache-3q0rq3d3/wheels/d6/38/42/3d2112bc7d915f6195254ac85eb761d922d1b18f52817aa8e2\n",
            "Successfully built mnist1d\n",
            "Installing collected packages: mnist1d\n",
            "Successfully installed mnist1d-0.0.2.post16\n"
          ]
        }
      ],
      "source": [
        "# Run this if you're in a Colab to install MNIST 1D repository\n",
        "%pip install git+https://github.com/greydanus/mnist1d"
      ]
    },
    {
      "cell_type": "code",
      "execution_count": 2,
      "metadata": {
        "id": "qyE7G1StPIqO"
      },
      "outputs": [],
      "source": [
        "import torch, torch.nn as nn\n",
        "from torch.utils.data import TensorDataset, DataLoader\n",
        "from torch.optim.lr_scheduler import StepLR\n",
        "import numpy as np\n",
        "import matplotlib.pyplot as plt\n",
        "import mnist1d"
      ]
    },
    {
      "cell_type": "markdown",
      "metadata": {
        "id": "F7LNq72SP6jO"
      },
      "source": [
        "Let's generate a training and test dataset using the MNIST1D code.  The dataset gets saved as a .pkl file so it doesn't have to be regenerated each time."
      ]
    },
    {
      "cell_type": "code",
      "execution_count": 3,
      "metadata": {
        "id": "YLxf7dJfPaqw",
        "outputId": "a7ae9de0-488e-4416-f5d5-56f6c4668826",
        "colab": {
          "base_uri": "https://localhost:8080/"
        }
      },
      "outputs": [
        {
          "output_type": "stream",
          "name": "stdout",
          "text": [
            "Did or could not load data from ./mnist1d_data.pkl. Rebuilding dataset...\n",
            "Examples in training set: 4000\n",
            "Examples in test set: 1000\n",
            "Length of each example: 40\n"
          ]
        }
      ],
      "source": [
        "args = mnist1d.data.get_dataset_args()\n",
        "data = mnist1d.data.get_dataset(args, path='./mnist1d_data.pkl', download=False, regenerate=False)\n",
        "\n",
        "# The training and test input and outputs are in\n",
        "# data['x'], data['y'], data['x_test'], and data['y_test']\n",
        "print(\"Examples in training set: {}\".format(len(data['y'])))\n",
        "print(\"Examples in test set: {}\".format(len(data['y_test'])))\n",
        "print(\"Length of each example: {}\".format(data['x'].shape[-1]))"
      ]
    },
    {
      "cell_type": "code",
      "execution_count": 5,
      "metadata": {
        "id": "FxaB5vc0uevl",
        "outputId": "d9217b7b-ac5b-4eac-87b2-a48ef5629bed",
        "colab": {
          "base_uri": "https://localhost:8080/"
        }
      },
      "outputs": [
        {
          "output_type": "stream",
          "name": "stdout",
          "text": [
            "Initializing layer Linear(in_features=40, out_features=100, bias=True)\n",
            "Initializing layer ReLU()\n",
            "Initializing layer Linear(in_features=100, out_features=100, bias=True)\n",
            "Initializing layer ReLU()\n",
            "Initializing layer Linear(in_features=100, out_features=10, bias=True)\n",
            "Initializing layer Sequential(\n",
            "  (0): Linear(in_features=40, out_features=100, bias=True)\n",
            "  (1): ReLU()\n",
            "  (2): Linear(in_features=100, out_features=100, bias=True)\n",
            "  (3): ReLU()\n",
            "  (4): Linear(in_features=100, out_features=10, bias=True)\n",
            ")\n"
          ]
        },
        {
          "output_type": "execute_result",
          "data": {
            "text/plain": [
              "Sequential(\n",
              "  (0): Linear(in_features=40, out_features=100, bias=True)\n",
              "  (1): ReLU()\n",
              "  (2): Linear(in_features=100, out_features=100, bias=True)\n",
              "  (3): ReLU()\n",
              "  (4): Linear(in_features=100, out_features=10, bias=True)\n",
              ")"
            ]
          },
          "metadata": {},
          "execution_count": 5
        }
      ],
      "source": [
        "D_i = 40    # Input dimensions\n",
        "D_k = 100   # Hidden dimensions\n",
        "D_o = 10    # Output dimensions\n",
        "# TODO:\n",
        "# Define a model with two hidden layers of size 100\n",
        "# And ReLU activations between them\n",
        "# Replace this line (see Figure 7.8 of book for help):\n",
        "model = torch.nn.Sequential(\n",
        "    torch.nn.Linear(D_i, D_k),\n",
        "    torch.nn.ReLU(),\n",
        "    torch.nn.Linear(D_k, D_k),\n",
        "    torch.nn.ReLU(),\n",
        "    torch.nn.Linear(D_k, D_o)\n",
        ")\n",
        "\n",
        "\n",
        "def weights_init(layer_in):\n",
        "  # TODO:\n",
        "  # Initialize the parameters with He initialization\n",
        "  # Replace this line (see figure 7.8 of book for help)\n",
        "    if isinstance(layer_in, torch.nn.Linear):\n",
        "      torch.nn.init.kaiming_normal_(layer_in.weight, nonlinearity='relu')\n",
        "      if layer_in.bias is not None:\n",
        "          torch.nn.init.zeros_(layer_in.bias)\n",
        "    print(f\"Initializing layer {layer_in}\")\n",
        "\n",
        "\n",
        "# Call the function you just defined\n",
        "model.apply(weights_init)\n"
      ]
    },
    {
      "cell_type": "code",
      "execution_count": 6,
      "metadata": {
        "id": "_rX6N3VyyQTY",
        "outputId": "ec66e596-5041-4d90-9e61-847f85baae66",
        "colab": {
          "base_uri": "https://localhost:8080/"
        }
      },
      "outputs": [
        {
          "output_type": "stream",
          "name": "stdout",
          "text": [
            "Initializing layer Linear(in_features=40, out_features=100, bias=True)\n",
            "Initializing layer ReLU()\n",
            "Initializing layer Linear(in_features=100, out_features=100, bias=True)\n",
            "Initializing layer ReLU()\n",
            "Initializing layer Linear(in_features=100, out_features=10, bias=True)\n",
            "Initializing layer Sequential(\n",
            "  (0): Linear(in_features=40, out_features=100, bias=True)\n",
            "  (1): ReLU()\n",
            "  (2): Linear(in_features=100, out_features=100, bias=True)\n",
            "  (3): ReLU()\n",
            "  (4): Linear(in_features=100, out_features=10, bias=True)\n",
            ")\n",
            "Epoch     0, train loss 1.595203, train error 61.95,  test loss 1.643160, test error 67.40\n",
            "Epoch     1, train loss 1.340254, train error 50.45,  test loss 1.466787, test error 57.80\n",
            "Epoch     2, train loss 1.204635, train error 45.58,  test loss 1.382812, test error 55.50\n",
            "Epoch     3, train loss 1.015771, train error 36.30,  test loss 1.266164, test error 49.30\n",
            "Epoch     4, train loss 0.971472, train error 35.32,  test loss 1.307175, test error 51.10\n",
            "Epoch     5, train loss 0.842040, train error 29.78,  test loss 1.230442, test error 47.70\n",
            "Epoch     6, train loss 0.730714, train error 25.12,  test loss 1.155470, test error 44.30\n",
            "Epoch     7, train loss 0.680177, train error 23.45,  test loss 1.223473, test error 45.00\n",
            "Epoch     8, train loss 0.610909, train error 20.95,  test loss 1.182147, test error 44.50\n",
            "Epoch     9, train loss 0.524122, train error 17.28,  test loss 1.174350, test error 42.80\n",
            "Epoch    10, train loss 0.421128, train error 12.90,  test loss 1.065047, test error 39.70\n",
            "Epoch    11, train loss 0.385494, train error 10.88,  test loss 1.100354, test error 40.10\n",
            "Epoch    12, train loss 0.345915, train error 9.05,  test loss 1.129022, test error 39.90\n",
            "Epoch    13, train loss 0.311652, train error 7.53,  test loss 1.126235, test error 38.10\n",
            "Epoch    14, train loss 0.295144, train error 7.50,  test loss 1.149850, test error 39.70\n",
            "Epoch    15, train loss 0.262429, train error 6.43,  test loss 1.169081, test error 38.60\n",
            "Epoch    16, train loss 0.243422, train error 5.50,  test loss 1.166553, test error 38.60\n",
            "Epoch    17, train loss 0.230201, train error 5.60,  test loss 1.219114, test error 38.30\n",
            "Epoch    18, train loss 0.203770, train error 4.20,  test loss 1.200495, test error 38.60\n",
            "Epoch    19, train loss 0.179715, train error 3.15,  test loss 1.211820, test error 37.20\n",
            "Epoch    20, train loss 0.151799, train error 1.80,  test loss 1.208739, test error 37.20\n",
            "Epoch    21, train loss 0.142549, train error 1.40,  test loss 1.210913, test error 36.90\n",
            "Epoch    22, train loss 0.137751, train error 1.53,  test loss 1.240573, test error 37.10\n",
            "Epoch    23, train loss 0.128224, train error 1.00,  test loss 1.244614, test error 38.30\n",
            "Epoch    24, train loss 0.121052, train error 0.75,  test loss 1.269438, test error 37.60\n",
            "Epoch    25, train loss 0.116494, train error 0.75,  test loss 1.271160, test error 37.30\n",
            "Epoch    26, train loss 0.110787, train error 0.75,  test loss 1.290113, test error 36.80\n",
            "Epoch    27, train loss 0.103390, train error 0.53,  test loss 1.293267, test error 38.20\n",
            "Epoch    28, train loss 0.098759, train error 0.30,  test loss 1.308597, test error 36.90\n",
            "Epoch    29, train loss 0.092642, train error 0.38,  test loss 1.310912, test error 37.10\n",
            "Epoch    30, train loss 0.089098, train error 0.22,  test loss 1.320905, test error 37.50\n",
            "Epoch    31, train loss 0.085541, train error 0.20,  test loss 1.319651, test error 37.20\n",
            "Epoch    32, train loss 0.083653, train error 0.15,  test loss 1.325973, test error 37.00\n",
            "Epoch    33, train loss 0.082141, train error 0.12,  test loss 1.333768, test error 37.10\n",
            "Epoch    34, train loss 0.079856, train error 0.10,  test loss 1.343251, test error 37.20\n",
            "Epoch    35, train loss 0.077977, train error 0.10,  test loss 1.344520, test error 36.90\n",
            "Epoch    36, train loss 0.076268, train error 0.07,  test loss 1.347139, test error 37.10\n",
            "Epoch    37, train loss 0.074397, train error 0.07,  test loss 1.355188, test error 37.00\n",
            "Epoch    38, train loss 0.072709, train error 0.05,  test loss 1.358122, test error 36.90\n",
            "Epoch    39, train loss 0.070967, train error 0.05,  test loss 1.366436, test error 36.90\n",
            "Epoch    40, train loss 0.069768, train error 0.03,  test loss 1.369250, test error 37.30\n",
            "Epoch    41, train loss 0.069116, train error 0.03,  test loss 1.375020, test error 37.30\n",
            "Epoch    42, train loss 0.068275, train error 0.05,  test loss 1.373742, test error 37.80\n",
            "Epoch    43, train loss 0.067596, train error 0.03,  test loss 1.374892, test error 37.10\n",
            "Epoch    44, train loss 0.066756, train error 0.03,  test loss 1.381032, test error 37.40\n",
            "Epoch    45, train loss 0.065993, train error 0.03,  test loss 1.382859, test error 37.50\n",
            "Epoch    46, train loss 0.065293, train error 0.03,  test loss 1.383973, test error 37.30\n",
            "Epoch    47, train loss 0.064643, train error 0.03,  test loss 1.387559, test error 37.30\n",
            "Epoch    48, train loss 0.063971, train error 0.03,  test loss 1.389759, test error 37.40\n",
            "Epoch    49, train loss 0.063499, train error 0.03,  test loss 1.392300, test error 37.50\n"
          ]
        }
      ],
      "source": [
        "# choose cross entropy loss function (equation 5.24)\n",
        "loss_function = torch.nn.CrossEntropyLoss()\n",
        "# construct SGD optimizer and initialize learning rate and momentum\n",
        "optimizer = torch.optim.SGD(model.parameters(), lr = 0.05, momentum=0.9)\n",
        "# object that decreases learning rate by half every 10 epochs\n",
        "scheduler = StepLR(optimizer, step_size=10, gamma=0.5)\n",
        "x_train = torch.tensor(data['x'].astype('float32'))\n",
        "y_train = torch.tensor(data['y'].transpose().astype('int64'))\n",
        "x_test= torch.tensor(data['x_test'].astype('float32'))\n",
        "y_test = torch.tensor(data['y_test'].astype('int64'))\n",
        "\n",
        "# load the data into a class that creates the batches\n",
        "data_loader = DataLoader(TensorDataset(x_train,y_train), batch_size=100, shuffle=True, worker_init_fn=np.random.seed(1))\n",
        "\n",
        "# Initialize model weights\n",
        "model.apply(weights_init)\n",
        "\n",
        "# loop over the dataset n_epoch times\n",
        "n_epoch = 50\n",
        "# store the loss and the % correct at each epoch\n",
        "losses_train = np.zeros((n_epoch))\n",
        "errors_train = np.zeros((n_epoch))\n",
        "losses_test = np.zeros((n_epoch))\n",
        "errors_test = np.zeros((n_epoch))\n",
        "\n",
        "for epoch in range(n_epoch):\n",
        "  # loop over batches\n",
        "  for i, batch in enumerate(data_loader):\n",
        "    # retrieve inputs and labels for this batch\n",
        "    x_batch, y_batch = batch\n",
        "    # zero the parameter gradients\n",
        "    optimizer.zero_grad()\n",
        "    # forward pass -- calculate model output\n",
        "    pred = model(x_batch)\n",
        "    # compute the loss\n",
        "    loss = loss_function(pred, y_batch)\n",
        "    # backward pass\n",
        "    loss.backward()\n",
        "    # SGD update\n",
        "    optimizer.step()\n",
        "\n",
        "  # Run whole dataset to get statistics -- normally wouldn't do this\n",
        "  pred_train = model(x_train)\n",
        "  pred_test = model(x_test)\n",
        "  _, predicted_train_class = torch.max(pred_train.data, 1)\n",
        "  _, predicted_test_class = torch.max(pred_test.data, 1)\n",
        "  errors_train[epoch] = 100 - 100 * (predicted_train_class == y_train).float().sum() / len(y_train)\n",
        "  errors_test[epoch]= 100 - 100 * (predicted_test_class == y_test).float().sum() / len(y_test)\n",
        "  losses_train[epoch] = loss_function(pred_train, y_train).item()\n",
        "  losses_test[epoch]= loss_function(pred_test, y_test).item()\n",
        "  print(f'Epoch {epoch:5d}, train loss {losses_train[epoch]:.6f}, train error {errors_train[epoch]:3.2f},  test loss {losses_test[epoch]:.6f}, test error {errors_test[epoch]:3.2f}')\n",
        "\n",
        "  # tell scheduler to consider updating learning rate\n",
        "  scheduler.step()"
      ]
    },
    {
      "cell_type": "code",
      "execution_count": 7,
      "metadata": {
        "id": "yI-l6kA_EH9G",
        "outputId": "64f50d30-ae06-402c-ed23-177462bdfefe",
        "colab": {
          "base_uri": "https://localhost:8080/",
          "height": 927
        }
      },
      "outputs": [
        {
          "output_type": "display_data",
          "data": {
            "text/plain": [
              "<Figure size 640x480 with 1 Axes>"
            ],
            "image/png": "[encoded data removed]"
          },
          "metadata": {}
        },
        {
          "output_type": "display_data",
          "data": {
            "text/plain": [
              "<Figure size 640x480 with 1 Axes>"
            ],
            "image/png": "[encoded data removed]"
          },
          "metadata": {}
        }
      ],
      "source": [
        "# Plot the results\n",
        "fig, ax = plt.subplots()\n",
        "ax.plot(errors_train,'r-',label='train')\n",
        "ax.plot(errors_test,'b-',label='test')\n",
        "ax.set_ylim(0,100); ax.set_xlim(0,n_epoch)\n",
        "ax.set_xlabel('Epoch'); ax.set_ylabel('Error')\n",
        "ax.set_title('TrainError %3.2f, Test Error %3.2f'%(errors_train[-1],errors_test[-1]))\n",
        "ax.legend()\n",
        "plt.show()\n",
        "\n",
        "# Plot the results\n",
        "fig, ax = plt.subplots()\n",
        "ax.plot(losses_train,'r-',label='train')\n",
        "ax.plot(losses_test,'b-',label='test')\n",
        "ax.set_xlim(0,n_epoch)\n",
        "ax.set_xlabel('Epoch'); ax.set_ylabel('Loss')\n",
        "ax.set_title('Train loss %3.2f, Test loss %3.2f'%(losses_train[-1],losses_test[-1]))\n",
        "ax.legend()\n",
        "plt.show()"
      ]
    },
    {
      "cell_type": "markdown",
      "metadata": {
        "id": "q-yT6re6GZS4"
      },
      "source": [
        "**TODO**\n",
        "\n",
        "Play with the model -- try changing the number of layers, hidden units, learning rate, batch size, momentum or anything else you like.  See if you can improve the test results.\n",
        "\n",
        "Is it a good idea to optimize the hyperparameters in this way?  Will the final result be a good estimate of the true test performance?"
      ]
    }
  ],
  "metadata": {
    "accelerator": "GPU",
    "colab": {
      "gpuType": "T4",
      "provenance": [],
      "include_colab_link": true
    },
    "kernelspec": {
      "display_name": "Python 3",
      "name": "python3"
    },
    "language_info": {
      "name": "python"
    }
  },
  "nbformat": 4,
  "nbformat_minor": 0
}